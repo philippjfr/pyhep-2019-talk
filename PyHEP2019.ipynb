{
 "cells": [
  {
   "cell_type": "code",
   "execution_count": null,
   "metadata": {},
   "outputs": [],
   "source": [
    "import fastparquet\n",
    "import panel as pn\n",
    "import numpy as np\n",
    "import pandas as pd\n",
    "\n",
    "pn.extension('plotly')"
   ]
  },
  {
   "cell_type": "markdown",
   "metadata": {},
   "source": [
    "<div style=\"display: block;\"><center>\n",
    "<img src=\"pyviz.png\" width=250><br>\n",
    "<h1>A tour (of a small part) of the Python visualization landscape</h1>\n",
    "<h2>PyHEP Workshop - Abingdon 2019</h2>\n",
    "<h3>Philipp Rudiger (@philippjfr)\n",
    "<img src=\"anaconda-logo.png\" width=350>\n",
    "</center></div>"
   ]
  },
  {
   "cell_type": "markdown",
   "metadata": {},
   "source": [
    "<img src=\"anaconda-logo.png\" width=450>\n",
    "\n",
    "* PhD in Computational Neuroscience @ University of Edinburgh\n",
    "* Left academia to switch to software engineering immediately \n",
    "* Working as consultant for Anaconda Inc. for 4+ years\n",
    "* Spend most of my time on open-source visualization tools "
   ]
  },
  {
   "cell_type": "markdown",
   "metadata": {},
   "source": [
    "# Anaconda Open Source Tools\n",
    "\n",
    "* Anaconda employs 17+ open-source developers\n",
    "* Conda (4), Pandas (2), Dask (2), Numba (4), HoloViz (4), Intake (1), scikit-learn (1)"
   ]
  },
  {
   "cell_type": "markdown",
   "metadata": {},
   "source": [
    "## Packaging\n",
    "\n",
    "<img src=\"./conda.png\" width=400></img>\n",
    "\n",
    "* Used by 18 million users per month\n",
    "* Serve 1 PB of packages per month"
   ]
  },
  {
   "cell_type": "markdown",
   "metadata": {},
   "source": [
    "\n",
    "## Data intake & processing\n",
    "\n",
    "<img src=\"data_libs.png\" width=600></img>"
   ]
  },
  {
   "cell_type": "markdown",
   "metadata": {},
   "source": [
    "<img src=\"viz_landscape.jpg\"></img>"
   ]
  },
  {
   "cell_type": "markdown",
   "metadata": {},
   "source": [
    "<img src=\"pyviz.png\" width=200><br>\n",
    "\n",
    "* pyviz.org provides an overview over all Python visualization tools\n",
    "* Actively working with maintainers to expand guidance and materials"
   ]
  },
  {
   "cell_type": "markdown",
   "metadata": {},
   "source": [
    "<img src=\"./holoviz.svg\" width=350></img>\n",
    "\n",
    "<img src=\"./viz_tools.png\"></img>\n",
    "\n",
    "* Tools that work well together and with the rest of the ecosystem\n",
    "* Take you from exploratory workflows smoothly to interactive dashboards\n",
    "* Focused on iterating within notebooks but not tied to notebooks"
   ]
  },
  {
   "cell_type": "markdown",
   "metadata": {},
   "source": [
    "<img src=\"hvplot.png\" width=150></img>\n",
    "\n",
    "* High-level plotting interface like DataFrame.plot\n",
    "* Renders Bokeh plots using HoloViews\n",
    "* Supports interactivity and datashading\n",
    "* Supports Pandas, Dask, Streamz, XArray, GeoPandas, NetworkX"
   ]
  },
  {
   "cell_type": "code",
   "execution_count": null,
   "metadata": {},
   "outputs": [],
   "source": [
    "import dask.dataframe as dd\n",
    "import hvplot.pandas"
   ]
  },
  {
   "cell_type": "code",
   "execution_count": null,
   "metadata": {},
   "outputs": [],
   "source": [
    "ddf = dd.read_parquet('/Users/philippjfr/development/datashader/examples/data/nyc_taxi_wide.parq').compute()\n",
    "print('The parquet table has %d rows.\\n' % len(ddf))\n",
    "print('The table has the following columns: %s' % list(ddf.columns))"
   ]
  },
  {
   "cell_type": "code",
   "execution_count": null,
   "metadata": {},
   "outputs": [],
   "source": [
    "ddf.hvplot.hist('pickup_hour', bins=24)"
   ]
  },
  {
   "cell_type": "code",
   "execution_count": null,
   "metadata": {},
   "outputs": [],
   "source": [
    "ddf[(ddf.trip_distance>0) & (ddf.trip_distance<10)].sort_values('pickup_hour').hvplot.violin(\n",
    "    'trip_distance', by='pickup_hour', c='pickup_hour', cmap='Category20')"
   ]
  },
  {
   "cell_type": "markdown",
   "metadata": {},
   "source": [
    "<img src=\"datashader.png\" width=250></img>\n",
    "\n",
    "* Fast 2D histograming/binning using Numba \n",
    "* Parallelized using dask\n",
    "* Support for different glyphs including points, lines, rasters, areas, meshes etc.\n",
    "* Working on GPU supports in collaboration with NVIDIA"
   ]
  },
  {
   "cell_type": "code",
   "execution_count": null,
   "metadata": {},
   "outputs": [],
   "source": [
    "ddf.hvplot.scatter(\n",
    "    'pickup_x', 'pickup_y', datashade=True, cmap='viridis',\n",
    "    xaxis=False, yaxis=False)"
   ]
  },
  {
   "cell_type": "code",
   "execution_count": null,
   "metadata": {},
   "outputs": [],
   "source": [
    "ddf.hvplot.scatter(\n",
    "    'pickup_x', 'pickup_y', groupby='pickup_hour', tiles='Wikipedia',\n",
    "    datashade=True, cmap='viridis', xaxis=False, yaxis=False)"
   ]
  },
  {
   "cell_type": "markdown",
   "metadata": {},
   "source": [
    "<img src=\"holoviews.png\" width=250></img>\n",
    "\n",
    "* High-level visualization library focused on annotating your data with semantic metadata \n",
    "* Allows building dynamic pipelines to process data as events come in\n",
    "* Support streaming data and many data formats (pandas, dask, xarray, soon cuDF)\n",
    "* Renders to different plotting backends including Bokeh, Matplotlib and Plotly"
   ]
  },
  {
   "cell_type": "code",
   "execution_count": null,
   "metadata": {},
   "outputs": [],
   "source": [
    "import holoviews as hv\n",
    "from holoviews.operation.datashader import datashade, dynspread\n",
    "\n",
    "ds = hv.Dataset(ddf)\n",
    "\n",
    "geo = datashade(hv.Points(ds, kdims=['pickup_x', 'pickup_y'])).opts(\n",
    "    width=600, xaxis=None, yaxis=None)\n",
    "fares = datashade(hv.Points(ds, kdims=['fare_amount', 'tip_amount'])).opts(\n",
    "    width=600, xlim=(0, 50), ylim=(0, 10))\n",
    "\n",
    "link = hv.selection.link_selections.instance()\n",
    "\n",
    "link(geo + fares)"
   ]
  },
  {
   "cell_type": "markdown",
   "metadata": {},
   "source": [
    "<img src=\"panel_logo_stacked.png\" width=170>\n",
    "\n",
    "* Easy apps and dashboards for any viz library.\n",
    "- Panel is relatively new library, but built on Bokeh's solid 1.x release.\n",
    "- Panel lets all your notebooks double as apps or dashboards.\n",
    "- Use just about any plotting library, image type, or other objects.\n",
    "- Develop dashboards in a notebook, deploy, revise, repeat.\n",
    "- Fully usable with Jupyter *and* without Jupyter installed."
   ]
  },
  {
   "cell_type": "markdown",
   "metadata": {},
   "source": [
    "To dive in, let's say we have a dataset to explore, such as this<br>\n",
    "[UCI ML dataset measuring the environment in a meeting room](http://archive.ics.uci.edu/ml/datasets/Occupancy+Detection+)."
   ]
  },
  {
   "cell_type": "code",
   "execution_count": null,
   "metadata": {},
   "outputs": [],
   "source": [
    "import matplotlib.pyplot as plt\n",
    "\n",
    "data = pd.read_csv('./occupancy.csv', index_col='date', parse_dates=True)\n",
    "data.tail()"
   ]
  },
  {
   "cell_type": "markdown",
   "metadata": {},
   "source": [
    "And we've written some code that smooths a time series and plots it using Matplotlib with outliers highlighted:"
   ]
  },
  {
   "cell_type": "code",
   "execution_count": null,
   "metadata": {},
   "outputs": [],
   "source": [
    "def mpl_plot(avg, highlight):\n",
    "    ax = avg.plot()\n",
    "    if len(highlight): highlight.plot(style='o', ax=ax)\n",
    "    fig = ax.get_figure()\n",
    "    plt.close(fig)\n",
    "    return fig\n",
    "\n",
    "def find_outliers(variable='Temperature', window=30, sigma=10, view_fn=mpl_plot):\n",
    "    avg = data[variable].rolling(window=window).mean()\n",
    "    residual = data[variable] - avg\n",
    "    std = residual.rolling(window=window).std()\n",
    "    outliers = (np.abs(residual) > std * sigma)\n",
    "    return view_fn(avg, avg[outliers])"
   ]
  },
  {
   "cell_type": "markdown",
   "metadata": {},
   "source": [
    "We can call the function with parameters and get a plot:"
   ]
  },
  {
   "cell_type": "code",
   "execution_count": null,
   "metadata": {},
   "outputs": [],
   "source": [
    "find_outliers(variable='Temperature', window=20, sigma=10)"
   ]
  },
  {
   "cell_type": "markdown",
   "metadata": {},
   "source": [
    "It works! But exploring all these parameters by typing Python is slow and tedious. Plus we want someone else to be able to try it out."
   ]
  },
  {
   "cell_type": "markdown",
   "metadata": {},
   "source": [
    "Let's make a panel instead:"
   ]
  },
  {
   "cell_type": "code",
   "execution_count": null,
   "metadata": {},
   "outputs": [],
   "source": [
    "pn.interact(find_outliers)"
   ]
  },
  {
   "cell_type": "markdown",
   "metadata": {},
   "source": [
    "Let's do a bit more work and capture the full range of parameters that can be varied:"
   ]
  },
  {
   "cell_type": "code",
   "execution_count": null,
   "metadata": {},
   "outputs": [],
   "source": [
    "kw = dict(window=(1, 60), variable=sorted(list(data.columns)), sigma=(1, 20))\n",
    "pn.interact(find_outliers, **kw)"
   ]
  },
  {
   "cell_type": "markdown",
   "metadata": {},
   "source": [
    "Now that we've explored it, let's share it with someone:"
   ]
  },
  {
   "cell_type": "code",
   "execution_count": null,
   "metadata": {},
   "outputs": [],
   "source": [
    "pn.interact(find_outliers, **kw).show()"
   ]
  },
  {
   "cell_type": "markdown",
   "metadata": {},
   "source": [
    "The person we are sharing it with comes back and says they don't know how to use the dashboard.  \n",
    "\n",
    "Let's look at it and see how it's made, so we can add some explanatory text:"
   ]
  },
  {
   "cell_type": "code",
   "execution_count": null,
   "metadata": {},
   "outputs": [],
   "source": [
    "i = pn.interact(find_outliers, **kw)\n",
    "\n",
    "print(i)"
   ]
  },
  {
   "cell_type": "markdown",
   "metadata": {},
   "source": [
    "Ah, it's just a column of widgets and a plot."
   ]
  },
  {
   "cell_type": "markdown",
   "metadata": {},
   "source": [
    "Let's unpack that, rearrange it, add some instructions, and hide one of the widgets that will just be confusing:"
   ]
  },
  {
   "cell_type": "code",
   "execution_count": null,
   "metadata": {},
   "outputs": [],
   "source": [
    "text = \"<br>\\n# Room Occupancy\\nSelect the variable, and the time window for smoothing\"\n",
    "\n",
    "p = pn.Row(i[1][0], pn.Column(text, *i[0][:2], width=400))\n",
    "p"
   ]
  },
  {
   "cell_type": "markdown",
   "metadata": {},
   "source": [
    "Once we're happy with that in the notebook, we'll share it again:"
   ]
  },
  {
   "cell_type": "code",
   "execution_count": null,
   "metadata": {},
   "outputs": [],
   "source": [
    "p.show()"
   ]
  },
  {
   "cell_type": "code",
   "execution_count": null,
   "metadata": {},
   "outputs": [],
   "source": [
    "p"
   ]
  },
  {
   "cell_type": "markdown",
   "metadata": {},
   "source": [
    "Note that even widgets in another notebook cell stay linked:"
   ]
  },
  {
   "cell_type": "code",
   "execution_count": null,
   "metadata": {},
   "outputs": [],
   "source": [
    "i[0][2]"
   ]
  },
  {
   "cell_type": "markdown",
   "metadata": {},
   "source": [
    "Also note that Panel widgets are reactive, so they will update even if you set the values by hand:"
   ]
  },
  {
   "cell_type": "code",
   "execution_count": null,
   "metadata": {},
   "outputs": [],
   "source": [
    "p"
   ]
  },
  {
   "cell_type": "code",
   "execution_count": null,
   "metadata": {},
   "outputs": [],
   "source": [
    "i[0][0].value = 'Light'"
   ]
  },
  {
   "cell_type": "markdown",
   "metadata": {},
   "source": [
    "Of course, you don't need to use the magic of `interact`; it's also easy to make widgets and link them up by hand:"
   ]
  },
  {
   "cell_type": "code",
   "execution_count": null,
   "metadata": {},
   "outputs": [],
   "source": [
    "import panel.widgets as pnw\n",
    "\n",
    "variable  = pnw.RadioButtonGroup(name='variable', value='Temperature', \n",
    "                                 options=list(data.columns))\n",
    "window    = pnw.IntSlider(name='window', value=10, start=1, end=60)\n",
    "\n",
    "@pn.depends(variable, window)\n",
    "def reactive_outliers(variable, window):\n",
    "    return find_outliers(variable, window, 10)\n",
    "\n",
    "widgets   = pn.Column(\"<br>\\n# Room occupancy\", variable, window)\n",
    "occupancy = pn.Row(reactive_outliers, widgets)"
   ]
  },
  {
   "cell_type": "code",
   "execution_count": null,
   "metadata": {},
   "outputs": [],
   "source": [
    "occupancy"
   ]
  },
  {
   "cell_type": "markdown",
   "metadata": {},
   "source": [
    "So far we've only used Matplotlib.  \n",
    "\n",
    "What about other libraries? You can use almost anything!"
   ]
  },
  {
   "cell_type": "markdown",
   "metadata": {},
   "source": [
    "E.g. [hvPlot](http://hvplot.pyviz.org), a drop-in replacement for Pandas .plot() (and xarray, dask, intake, ...) that gives fully interactive [Bokeh](http://bokeh.pydata.org) plots in panels:"
   ]
  },
  {
   "cell_type": "code",
   "execution_count": null,
   "metadata": {},
   "outputs": [],
   "source": [
    "import hvplot.pandas\n",
    "\n",
    "def hvplot(avg, highlight):\n",
    "    return avg.hvplot(height=300, legend=False) * highlight.hvplot.scatter(color='orange', padding=0.1, legend=False)\n",
    "\n",
    "text2 = \"## Room Occupancy\\nSelect the variable and the smoothing values\"\n",
    "hvp   = pn.interact(find_outliers, view_fn=hvplot, **kw)\n",
    "occupancy_app = pn.Column(pn.Row(pn.panel(text2, width=400), hvp[0]), hvp[1])\n",
    "occupancy_app.servable()"
   ]
  },
  {
   "cell_type": "markdown",
   "metadata": {},
   "source": [
    "We can bring in other datasets, dozens of other plotting libraries, linked plots, drilling down, big data, etc., but let's call that done for now. \n",
    "\n",
    "Can we keep it running as a server indefinitely now?  \n",
    "\n",
    "Sure, just mark the item to serve with `.servable()` in the notebook, then run `panel serve --show PyHEP2019.ipynb`. \n",
    "\n",
    "As you can see, Panel is designed to support your _entire_ data-analysis workflow -- work in a notebook, explore freely, deploy freely, do batch or cron jobs, and never have to rewrite to use your code in a new context."
   ]
  },
  {
   "cell_type": "markdown",
   "metadata": {},
   "source": [
    "# Other Features"
   ]
  },
  {
   "cell_type": "markdown",
   "metadata": {},
   "source": [
    "## Templating"
   ]
  },
  {
   "cell_type": "markdown",
   "metadata": {},
   "source": [
    "```\n",
    "{% extends base %}\n",
    "\n",
    "<!-- goes in body -->\n",
    "{% block postamble %}\n",
    "<link rel=\"stylesheet\" href=\"https://cdnjs.cloudflare.com/ajax/libs/materialize/1.0.0/css/materialize.min.css\">\n",
    "<link href=\"https://fonts.googleapis.com/icon?family=Material+Icons\" rel=\"stylesheet\">\n",
    "\n",
    "<script src=\"https://cdnjs.cloudflare.com/ajax/libs/materialize/1.0.0/js/materialize.min.js\"></script>\n",
    "\n",
    "<style type=\"text/css\">\n",
    "  body {\n",
    "    background-color: var(--jp-layout-color0);\n",
    "    overflow-y: scroll;\n",
    "  }\n",
    "  .nav-wrapper {\n",
    "    background-color: #2f2f2f;\n",
    "  }\n",
    "  .brand-logo {\n",
    "    height: 75%;\n",
    "    margin: 8px;\n",
    "  }\n",
    "</style>\n",
    "{% endblock %}\n",
    "\n",
    "<!-- goes in body -->\n",
    "{% block contents %}\n",
    "<header>\n",
    "  <div class=\"navbar-fixed\">\n",
    "    <nav class=\"top-nav\">\n",
    "      <div class=\"nav-wrapper\">\n",
    "        <a href=\"#!\" class=\"brand-logo-container\">\n",
    "          <object class=\"brand-logo\" type=\"image/png\" data=\"http://panel.pyviz.org/_static/logo_horizontal.png\"></object>\n",
    "        </a>\n",
    "      </div>\n",
    "    </nav>\n",
    "  </div>\n",
    "</header>\n",
    "\n",
    "<div class=\"row\">\n",
    "\n",
    "  <div class=\"col s2\">\n",
    "    <!-- Grey navigation panel -->\n",
    "  </div>\n",
    "\n",
    "  <div class=\"col s8\">\n",
    "    <h1>Custom Material UI Template</h1>\n",
    "    <p>This is a Panel app with a custom template allowing us to compose multiple Panel objects into a single HTML document.</p>\n",
    "    <br>\n",
    "    \n",
    "    <ul class=\"collapsible\">\n",
    "      <li>\n",
    "        <div class=\"collapsible-header\"><i class=\"material-icons\">filter_drama</i>Vega</div>\n",
    "        <div class=\"collapsible-body\">{{ embed(roots.vega) }}</div>\n",
    "      </li>\n",
    "      <li>\n",
    "        <div class=\"collapsible-header\"><i class=\"material-icons\">place</i>Plotly</div>\n",
    "        <div class=\"collapsible-body\">{{ embed(roots.plotly) }}</div>\n",
    "      </li>\n",
    "      <li>\n",
    "        <div class=\"collapsible-header\"><i class=\"material-icons\">place</i>HoloViews</div>\n",
    "        <div class=\"collapsible-body\">{{ embed(roots.holoviews) }}</div>\n",
    "      </li>\n",
    "    </ul>\n",
    "  \n",
    "  <div class=\"col s2\">\n",
    "    <!-- Grey navigation panel -->\n",
    "  </div>\n",
    "</div>\n",
    "\n",
    "<script>\n",
    "  document.addEventListener('DOMContentLoaded', function() {\n",
    "    var elems = document.querySelectorAll('.collapsible');\n",
    "    var instances = M.Collapsible.init(elems, {});\n",
    "  });\n",
    "</script>\n",
    "\n",
    "{% endblock %}\n",
    "```"
   ]
  },
  {
   "cell_type": "code",
   "execution_count": null,
   "metadata": {},
   "outputs": [],
   "source": [
    "template = \"\"\"\n",
    "{% extends base %}\n",
    "\n",
    "<!-- goes in body -->\n",
    "{% block postamble %}\n",
    "<link rel=\"stylesheet\" href=\"https://cdnjs.cloudflare.com/ajax/libs/materialize/1.0.0/css/materialize.min.css\">\n",
    "<link href=\"https://fonts.googleapis.com/icon?family=Material+Icons\" rel=\"stylesheet\">\n",
    "\n",
    "<script src=\"https://cdnjs.cloudflare.com/ajax/libs/materialize/1.0.0/js/materialize.min.js\"></script>\n",
    "\n",
    "<style type=\"text/css\">\n",
    "  body {\n",
    "    background-color: var(--jp-layout-color0);\n",
    "    overflow-y: scroll;\n",
    "  }\n",
    "  .nav-wrapper {\n",
    "    background-color: #2f2f2f;\n",
    "  }\n",
    "  .brand-logo {\n",
    "    height: 75%;\n",
    "    margin: 8px;\n",
    "  }\n",
    "</style>\n",
    "{% endblock %}\n",
    "\n",
    "<!-- goes in body -->\n",
    "{% block contents %}\n",
    "<header>\n",
    "  <div class=\"navbar-fixed\">\n",
    "    <nav class=\"top-nav\">\n",
    "      <div class=\"nav-wrapper\">\n",
    "        <a href=\"#!\" class=\"brand-logo-container\">\n",
    "          <object class=\"brand-logo\" type=\"image/png\" data=\"http://panel.pyviz.org/_static/logo_horizontal.png\"></object>\n",
    "        </a>\n",
    "      </div>\n",
    "    </nav>\n",
    "  </div>\n",
    "</header>\n",
    "\n",
    "<div class=\"row\">\n",
    "\n",
    "  <div class=\"col s2\">\n",
    "    <!-- Grey navigation panel -->\n",
    "  </div>\n",
    "\n",
    "  <div class=\"col s8\">\n",
    "    <h1>Custom Material UI Template</h1>\n",
    "    <p>This is a Panel app with a custom template allowing us to compose multiple Panel objects into a single HTML document.</p>\n",
    "    <br>\n",
    "    \n",
    "    <ul class=\"collapsible\">\n",
    "      <li>\n",
    "        <div class=\"collapsible-header\"><i class=\"material-icons\">filter_drama</i>Vega</div>\n",
    "        <div class=\"collapsible-body\">{{ embed(roots.vega) }}</div>\n",
    "      </li>\n",
    "      <li>\n",
    "        <div class=\"collapsible-header\"><i class=\"material-icons\">place</i>Plotly</div>\n",
    "        <div class=\"collapsible-body\">{{ embed(roots.plotly) }}</div>\n",
    "      </li>\n",
    "      <li>\n",
    "        <div class=\"collapsible-header\"><i class=\"material-icons\">place</i>HoloViews</div>\n",
    "        <div class=\"collapsible-body\">{{ embed(roots.holoviews) }}</div>\n",
    "      </li>\n",
    "    </ul>\n",
    "  \n",
    "  <div class=\"col s2\">\n",
    "    <!-- Grey navigation panel -->\n",
    "  </div>\n",
    "</div>\n",
    "\n",
    "<script>\n",
    "  document.addEventListener('DOMContentLoaded', function() {\n",
    "    var elems = document.querySelectorAll('.collapsible');\n",
    "    var instances = M.Collapsible.init(elems, {});\n",
    "  });\n",
    "</script>\n",
    "\n",
    "{% endblock %}\n",
    "\"\"\""
   ]
  },
  {
   "cell_type": "code",
   "execution_count": null,
   "metadata": {},
   "outputs": [],
   "source": [
    "imdb = {\n",
    "  \"$schema\": \"https://vega.github.io/schema/vega-lite/v3.json\",\n",
    "  \"data\": {\"url\": \"https://raw.githubusercontent.com/vega/vega/master/docs/data/movies.json\"},\n",
    "  \"transform\": [{\n",
    "    \"filter\": {\"and\": [\n",
    "      {\"field\": \"IMDB_Rating\", \"valid\": True},\n",
    "      {\"field\": \"Rotten_Tomatoes_Rating\", \"valid\": True}\n",
    "    ]}\n",
    "  }],\n",
    "  \"mark\": \"rect\",\n",
    "  \"width\": 600,\n",
    "  \"height\": 400,\n",
    "  \"encoding\": {\n",
    "    \"x\": {\n",
    "      \"bin\": {\"maxbins\":60},\n",
    "      \"field\": \"IMDB_Rating\",\n",
    "      \"type\": \"quantitative\"\n",
    "    },\n",
    "    \"y\": {\n",
    "      \"bin\": {\"maxbins\": 40},\n",
    "      \"field\": \"Rotten_Tomatoes_Rating\",\n",
    "      \"type\": \"quantitative\"\n",
    "    },\n",
    "    \"color\": {\n",
    "      \"aggregate\": \"count\",\n",
    "      \"type\": \"quantitative\"\n",
    "    }\n",
    "  },\n",
    "  \"config\": {\n",
    "    \"view\": {\n",
    "      \"stroke\": \"transparent\"\n",
    "    }\n",
    "  }\n",
    "}\n",
    "\n",
    "vega = pn.pane.Vega(imdb, width=750, height=425)\n",
    "\n",
    "# Declare range slider to adjust the color limits\n",
    "color_lims = pn.widgets.RangeSlider(name='Color limits', start=0, end=125,\n",
    "                                    value=(0, 40), step=1, width=200)\n",
    "color_lims.jslink(vega, code={'value': \"\"\"\n",
    "target.data.encoding.color.scale = {domain: source.value};\n",
    "target.properties.data.change.emit()\n",
    "\"\"\"})\n",
    "\n",
    "# Declare slider to control the number of bins along the x-axis\n",
    "imdb_bins = pn.widgets.IntSlider(name='IMDB Ratings Bins', start=0, end=125, \n",
    "                                 value=60, step=25, width=200)\n",
    "imdb_bins.jslink(vega, code={'value': \"\"\"\n",
    "target.data.encoding.x.bin.maxbins = source.value;\n",
    "target.properties.data.change.emit()\n",
    "\"\"\"})\n",
    "\n",
    "# Declare slider to control the number of bins along the y-axis\n",
    "tomato_bins = pn.widgets.IntSlider(name='Rotten Tomato Ratings Bins', start=0, end=125,\n",
    "                                   value=40, step=25, width=200)\n",
    "tomato_bins.jslink(vega, code={'value': \"\"\"\n",
    "target.data.encoding.y.bin.maxbins = source.value;\n",
    "target.properties.data.change.emit()\n",
    "\"\"\"})\n",
    "\n",
    "vega = pn.Row(vega, pn.Column(color_lims, imdb_bins, tomato_bins))"
   ]
  },
  {
   "cell_type": "code",
   "execution_count": null,
   "metadata": {},
   "outputs": [],
   "source": [
    "import plotly.graph_objects as go\n",
    "\n",
    "import pandas as pd\n",
    "\n",
    "# Read data from a csv\n",
    "z_data = pd.read_csv('https://raw.githubusercontent.com/plotly/datasets/master/api_docs/mt_bruno_elevation.csv')\n",
    "\n",
    "plotly = go.Figure(data=[go.Surface(z=z_data.values)])\n",
    "\n",
    "plotly.update_layout(title='Mt Bruno Elevation', autosize=False,\n",
    "                  width=500, height=500,\n",
    "                  margin=dict(l=65, r=50, b=65, t=90));"
   ]
  },
  {
   "cell_type": "code",
   "execution_count": null,
   "metadata": {},
   "outputs": [],
   "source": [
    "import holoviews as hv, param, dask.dataframe as dd\n",
    "import panel as pn\n",
    "\n",
    "\n",
    "from colorcet import cm\n",
    "from holoviews.operation.datashader import rasterize, shade\n",
    "from holoviews.element.tiles import StamenTerrain\n",
    "hv.extension('bokeh')\n",
    "\n",
    "usecols = ['dropoff_x','dropoff_y','pickup_x','pickup_y','dropoff_hour','pickup_hour','passenger_count']\n",
    "df = dd.read_parquet('/Users/philippjfr/development/datashader/examples/data/nyc_taxi_wide.parq')[usecols].persist()\n",
    "opts = dict(responsive=True, min_height=500,xaxis=None,yaxis=None,bgcolor='black',show_grid=False)\n",
    "cmaps = ['fire','bgy','bgyw','bmy','gray','kbc']\n",
    "\n",
    "alpha = pn.widgets.FloatSlider(name='Alpha', start=0, end=1, value=1)\n",
    "cmap = pn.widgets.Select(name='Colormap', options={c:cm[c] for c in cmaps}, value=cm['fire'])\n",
    "location = pn.widgets.Select(name='Location', options=['dropoff', 'pickup'], value='dropoff')\n",
    "hour = pn.widgets.IntRangeSlider(name='Hour', start=0, end=24, value=(0, 24))\n",
    "\n",
    "def points(ds, loc, h):\n",
    "    points = hv.Points(ds, [loc+'_x', loc+'_y'], 'dropoff_hour')\n",
    "    if hour != (0, 24): points = points.select(dropoff_hour=h)\n",
    "    return points\n",
    "\n",
    "\n",
    "link = hv.selection.link_selections.instance()\n",
    "\n",
    "ds = hv.Dataset(df)\n",
    "tiles = StamenTerrain().apply.opts(alpha=alpha, **opts)\n",
    "points = ds.apply(points, loc=location, h=hour)\n",
    "agg = rasterize(points, x_sampling=1, y_sampling=1, width=600, height=400)\n",
    "shaded = shade(agg, cmap=cmap)\n",
    "hist = agg.hist('dropoff_hour', adjoin=False)\n",
    "\n",
    "holoviews = pn.Row(\n",
    "    pn.Column(pn.WidgetBox(alpha, cmap, location, hour), link(hist)),\n",
    "    tiles * shaded\n",
    ")"
   ]
  },
  {
   "cell_type": "code",
   "execution_count": null,
   "metadata": {},
   "outputs": [],
   "source": [
    "tmpl = pn.Template(template)\n",
    "\n",
    "tmpl.add_panel('vega', vega)\n",
    "tmpl.add_panel('plotly', plotly)\n",
    "tmpl.add_panel('holoviews', holoviews)\n",
    "\n",
    "tmpl.servable()"
   ]
  },
  {
   "cell_type": "markdown",
   "metadata": {},
   "source": [
    "## Demos\n",
    "\n",
    "* http://localhost:5006/\n",
    "* https://glaciers.pyviz.demo.anaconda.com/glaciers\n",
    "* https://webcam-classifier.pyviz.demo.anaconda.com/app"
   ]
  },
  {
   "cell_type": "markdown",
   "metadata": {},
   "source": [
    "<img src=\"http://holoviz.org/assets/holoviz-logo-unstacked.svg\" width=350>\n",
    "\n",
    "Thank you!\n",
    "\n",
    "See [holoviz.org](https://holoviz.org) to see how everything fits together and go through a tutorial!\n",
    "\n",
    "Come talk to me about any of our open source tools!\n",
    "\n",
    "Twitter & GitHub: @philippjfr\n",
    "\n",
    "prudiger@anaconda.com"
   ]
  }
 ],
 "metadata": {
  "language_info": {
   "name": "python",
   "pygments_lexer": "ipython3"
  }
 },
 "nbformat": 4,
 "nbformat_minor": 4
}
